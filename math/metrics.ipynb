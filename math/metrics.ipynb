{
 "cells": [
  {
   "cell_type": "code",
   "execution_count": 22,
   "metadata": {},
   "outputs": [],
   "source": [
    "import numpy as np\n",
    "\n",
    "# goal: code up accuracy, precision, recall, F1 score\n",
    "X = np.random.rand(1000, 3) # 100 samples with 10 features\n",
    "y = np.random.rand(1000, 1) # binary classification label\n",
    "\n",
    "data = np.hstack([X, y])"
   ]
  },
  {
   "cell_type": "code",
   "execution_count": 23,
   "metadata": {},
   "outputs": [],
   "source": [
    "y_pred = np.random.randint(0, 2, size=100)\n",
    "y = np.random.randint(0, 2, size=100)\n",
    "\n",
    "\n",
    "acc = np.sum(y == y_pred) / len(y)"
   ]
  },
  {
   "cell_type": "markdown",
   "metadata": {},
   "source": [
    "### Train test validation split"
   ]
  },
  {
   "cell_type": "code",
   "execution_count": 33,
   "metadata": {},
   "outputs": [
    {
     "data": {
      "text/plain": [
       "((700, 4), (200, 4), (100, 4))"
      ]
     },
     "execution_count": 33,
     "metadata": {},
     "output_type": "execute_result"
    }
   ],
   "source": [
    "train = 0.7\n",
    "test = 0.2\n",
    "val = 0.1\n",
    "\n",
    "def split_train_test_val(data, train, test, val):\n",
    "    n_samples = data.shape[0]\n",
    "    n_train_samples = int(n_samples * train)\n",
    "    n_test_samples = int(n_samples * test)\n",
    "\n",
    "    idx = np.arange(0, n_samples) # assume first d\n",
    "    np.random.shuffle(idx)\n",
    "\n",
    "    train_sample_idx = idx[:n_train_samples]\n",
    "    test_sample_idx = idx[n_train_samples : (n_train_samples + n_test_samples)]\n",
    "    val_sampel_idx = idx[(n_train_samples + n_test_samples):]\n",
    "\n",
    "    return data[train_sample_idx], data[test_sample_idx], data[val_sampel_idx]\n",
    "    \n",
    "train, test, val = split_train_test_val(data, train, test, val)\n",
    "train.shape, test.shape, val.shape\n",
    "\n",
    "# another way of doing this is just have a two way split, then do it twice\n",
    "# once on the entire data set -> train / test split\n",
    "# second time on the train -> train / val split"
   ]
  },
  {
   "cell_type": "markdown",
   "metadata": {},
   "source": [
    "### Cross Validation"
   ]
  },
  {
   "cell_type": "code",
   "execution_count": 14,
   "metadata": {},
   "outputs": [
    {
     "data": {
      "text/plain": [
       "(10, 100, 4)"
      ]
     },
     "execution_count": 14,
     "metadata": {},
     "output_type": "execute_result"
    }
   ],
   "source": [
    "X = np.random.rand(1000, 3) # 100 samples with 10 features\n",
    "y = np.random.rand(1000, 1) # binary classification label\n",
    "\n",
    "data = np.hstack([X, y])\n",
    "\n",
    "def cross_validation(data: np.ndarray, k: int) -> np.ndarray:\n",
    "    n_samples, _ = data.shape # assumes that the first dimension is the sample\n",
    "    n_samples_per_fold = n_samples // k\n",
    "    res = []\n",
    "    for i in range(k):\n",
    "        slice = data[i * n_samples_per_fold : (i + 1) * n_samples_per_fold]\n",
    "        res.append(slice)\n",
    "    return np.array(res)\n",
    "\n",
    "\n",
    "\n",
    "cross_validation(data, 10).shape # (fold, sample, feature)"
   ]
  },
  {
   "cell_type": "code",
   "execution_count": 44,
   "metadata": {},
   "outputs": [
    {
     "data": {
      "text/plain": [
       "((180, 20), (180,))"
      ]
     },
     "execution_count": 44,
     "metadata": {},
     "output_type": "execute_result"
    }
   ],
   "source": [
    "# generate imbalance dataset\n",
    "class_0 = np.zeros(30, dtype=int)\n",
    "class_1 = np.ones(50, dtype=int)\n",
    "class_2 = np.ones(100, dtype=int) * 2\n",
    "\n",
    "\n",
    "X = np.random.rand(180, 20)\n",
    "y = np.concatenate([class_0, class_1, class_2])\n",
    "\n",
    "X.shape, y.shape"
   ]
  },
  {
   "cell_type": "code",
   "execution_count": 45,
   "metadata": {},
   "outputs": [],
   "source": [
    "def stratified_cross_validation(data, labels, k):\n",
    "    n_samples = data.shape[0]\n",
    "    n_sample_per_fold = n_samples // k\n",
    "    # TODO\n",
    " \n",
    "\n",
    "    \n"
   ]
  },
  {
   "cell_type": "markdown",
   "metadata": {},
   "source": [
    "### calculate precision, recall"
   ]
  },
  {
   "cell_type": "code",
   "execution_count": null,
   "metadata": {},
   "outputs": [],
   "source": []
  }
 ],
 "metadata": {
  "kernelspec": {
   "display_name": "deep_learning",
   "language": "python",
   "name": "python3"
  },
  "language_info": {
   "codemirror_mode": {
    "name": "ipython",
    "version": 3
   },
   "file_extension": ".py",
   "mimetype": "text/x-python",
   "name": "python",
   "nbconvert_exporter": "python",
   "pygments_lexer": "ipython3",
   "version": "3.12.1"
  }
 },
 "nbformat": 4,
 "nbformat_minor": 2
}
