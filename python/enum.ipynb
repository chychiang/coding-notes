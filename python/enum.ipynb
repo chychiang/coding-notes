{
 "cells": [
  {
   "cell_type": "markdown",
   "metadata": {},
   "source": [
    "# Enum\n",
    "why enum? \n",
    "- fixed set of values\n",
    "- readable\n",
    "- maintainable\n",
    "- prevent invalid values\n",
    "- type safety"
   ]
  },
  {
   "cell_type": "code",
   "execution_count": 9,
   "metadata": {},
   "outputs": [],
   "source": [
    "from enum import Enum\n",
    "\n",
    "class Sports(Enum):\n",
    "    soccer = 'soccer'\n",
    "    basketball = 'basketball'\n",
    "    tennis = 'tennis'"
   ]
  },
  {
   "cell_type": "code",
   "execution_count": 14,
   "metadata": {},
   "outputs": [
    {
     "data": {
      "text/plain": [
       "(False, True)"
      ]
     },
     "execution_count": 14,
     "metadata": {},
     "output_type": "execute_result"
    }
   ],
   "source": [
    "def is_soccer(sports):\n",
    "    return sports == 'socer'\n",
    "\n",
    "def is_soccer_safe(sports: Sports):\n",
    "    return sports == Sports.soccer\n",
    "\n",
    "is_soccer('soccer'), is_soccer_safe(Sports.soccer)"
   ]
  },
  {
   "cell_type": "code",
   "execution_count": null,
   "metadata": {},
   "outputs": [],
   "source": []
  }
 ],
 "metadata": {
  "kernelspec": {
   "display_name": "py310",
   "language": "python",
   "name": "python3"
  },
  "language_info": {
   "codemirror_mode": {
    "name": "ipython",
    "version": 3
   },
   "file_extension": ".py",
   "mimetype": "text/x-python",
   "name": "python",
   "nbconvert_exporter": "python",
   "pygments_lexer": "ipython3",
   "version": "undefined.undefined.undefined"
  }
 },
 "nbformat": 4,
 "nbformat_minor": 2
}
